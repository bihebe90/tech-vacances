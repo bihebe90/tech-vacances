{
 "cells": [
  {
   "cell_type": "markdown",
   "id": "564fda4a",
   "metadata": {},
   "source": [
    "<h1 style=\"text-align:center; color:whitee;\"> Les Fondamentaux du language python </h1>"
   ]
  },
  {
   "cell_type": "markdown",
   "id": "06f25708",
   "metadata": {},
   "source": [
    "| Concept fondamental      | Exemple en Python                  | Description                                      |\n",
    "|-------------------------|------------------------------------|--------------------------------------------------|\n",
    "| Variable                | `x = 5`                            | Stocke une valeur                                |\n",
    "| Type de données         | `int`, `float`, `str`, `bool`      | Nombres, texte, booléens                         |\n",
    "| Opérations              | `+`, `-`, `*`, `/`, `%`            | Calculs mathématiques et opérations sur les données|\n",
    "| Conditionnelles         | `if`, `elif`, `else`               | Exécute du code selon une condition              |\n",
    "| Boucles                 | `for`, `while`                     | Répète des instructions                          |\n",
    "| Fonctions               | `def ma_fonction():`               | Regroupe du code réutilisable                    |\n",
    "| Listes                  | `ma_liste = [1, 2, 3]`             | Tableau de valeurs modifiable                    |\n",
    "| Dictionnaires           | `d = {\"nom\": \"Alice\", \"age\": 20}`  | Stocke des paires clé/valeur                     |\n",
    "| Importation de modules  | `import math`                      | Utilise des bibliothèques"
   ]
  },
  {
   "cell_type": "code",
   "execution_count": 6,
   "id": "4d9c3fd0",
   "metadata": {},
   "outputs": [
    {
     "name": "stdout",
     "output_type": "stream",
     "text": [
      "Tu es un géni\n"
     ]
    }
   ],
   "source": [
    "#Exemples \n",
    "#Conditionnels et variables \n",
    "nom_de_eleve = \"Mawa\"\n",
    "if(1 == 2):\n",
    "    #indentation\n",
    "    print(\"tu surement nul \")\n",
    "elif(nom_de_eleve ==\"Koffi\"):\n",
    "    print(\"surement une erreur\")\n",
    "else:\n",
    "    print(\"Tu es un géni\")\n"
   ]
  },
  {
   "cell_type": "markdown",
   "id": "fc10c983",
   "metadata": {},
   "source": [
    "#### exemples listes "
   ]
  },
  {
   "cell_type": "code",
   "execution_count": 41,
   "id": "5666507d",
   "metadata": {},
   "outputs": [
    {
     "data": {
      "text/plain": [
       "['Toyota', 'Kia', 'Hundai', 'Benz', 'Peugeot', 'Mitsubshi', 'Honda', 'Volvo']"
      ]
     },
     "execution_count": 41,
     "metadata": {},
     "output_type": "execute_result"
    }
   ],
   "source": [
    "marques_de_voitures = [\"Toyota\", \"Nissan\", \"Hundai\", \"Benz\", \"Peugeot\", \"Mitsubshi\",\"Honda\"]\n",
    "nombre_de_marques = len(marques_de_voitures)# le nombre d'éléments d'une liste\n",
    "marques_de_voitures[-5] # de la droite vers la gauche\n",
    "marques_de_voitures[1] = \"Kia\" # Remplacement\n",
    "marques_de_voitures[1]\n",
    "marques_de_voitures.append(\"Volvo\") # ajout à la dernière position \n",
    "marques_de_voitures[-1] \n",
    "marques_de_voitures.insert(1,\"Suzuki\") #insertion à l'intérieur\n",
    "marques_de_voitures\n",
    "del marques_de_voitures[1] # suppression à une position précise \n",
    "marques_de_voitures\n",
    "len(marques_de_voitures)\n",
    "marques_de_voitures\n"
   ]
  },
  {
   "cell_type": "code",
   "execution_count": 40,
   "id": "1b74d209",
   "metadata": {},
   "outputs": [
    {
     "name": "stdout",
     "output_type": "stream",
     "text": [
      "Toyota 0\n",
      "Kia 1\n",
      "Hundai 2\n",
      "Benz 3\n",
      "Peugeot 4\n",
      "Mitsubshi 5\n",
      "Honda 6\n",
      "Volvo 7\n"
     ]
    }
   ],
   "source": [
    "count = 0\n",
    "for marque in marques_de_voitures:\n",
    "    print(marque, count)\n",
    "    count += 1"
   ]
  },
  {
   "cell_type": "code",
   "execution_count": 43,
   "id": "de8bb52a",
   "metadata": {},
   "outputs": [
    {
     "name": "stdout",
     "output_type": "stream",
     "text": [
      "0\n",
      "2\n",
      "4\n",
      "6\n",
      "8\n",
      "10\n",
      "12\n",
      "14\n",
      "16\n",
      "18\n",
      "20\n",
      "22\n",
      "24\n",
      "26\n",
      "28\n",
      "30\n",
      "32\n"
     ]
    }
   ],
   "source": [
    "# Boucle while \n",
    "max_number = 32\n",
    "count = 0\n",
    "while count <= max_number:\n",
    "    if(count%2 == 0):\n",
    "        print(count)\n",
    "    count += 1"
   ]
  },
  {
   "cell_type": "markdown",
   "id": "b1dc4c25",
   "metadata": {},
   "source": [
    "## Les Variables "
   ]
  },
  {
   "cell_type": "code",
   "execution_count": 1,
   "id": "4cd53b15",
   "metadata": {},
   "outputs": [
    {
     "name": "stdout",
     "output_type": "stream",
     "text": [
      "F\n"
     ]
    }
   ],
   "source": [
    "sexe = \"F\"\n",
    "print(sexe)"
   ]
  },
  {
   "cell_type": "code",
   "execution_count": 7,
   "id": "1755fe57",
   "metadata": {},
   "outputs": [
    {
     "name": "stdout",
     "output_type": "stream",
     "text": [
      "je m'appelle John. Je suis de sexe H et j'ai 25 ans.\n"
     ]
    }
   ],
   "source": [
    "sexe = \"H\"\n",
    "age = 25\n",
    "nom = \"John\"\n",
    "print(f\"je m'appelle {nom}. Je suis de sexe {sexe} et j'ai {age} ans.\")"
   ]
  },
  {
   "cell_type": "markdown",
   "id": "f9c0d16b",
   "metadata": {},
   "source": [
    "### L’interpolation de chaînes en Python\n",
    "\n",
    "L’interpolation permet d’insérer des valeurs de variables directement dans une chaîne de caractères.  \n",
    "Voici les méthodes principales :\n",
    "\n",
    "| Méthode                | Exemple                                      | Résultat                |\n",
    "|------------------------|----------------------------------------------|-------------------------|\n",
    "| f-string (recommandé)  | `name = \"Alice\"`<br>`f\"Bonjour {name}!\"`     | Bonjour Alice!          |\n",
    "| format()               | `\"Bonjour {}!\".format(name)`                 | Bonjour Alice!          |\n",
    "| % (ancienne méthode)   | `\"Bonjour %s!\" % name`                       | Bonjour Alice!          |\n",
    "\n",
    "**Exemple avec f-string :**\n",
    "```python\n",
    "age = 20\n",
    "print(f\"J'ai {age} ans\")\n",
    "# Affiche : J'ai 20 ans"
   ]
  },
  {
   "cell_type": "code",
   "execution_count": 2,
   "id": "d166b8ab",
   "metadata": {},
   "outputs": [
    {
     "name": "stdout",
     "output_type": "stream",
     "text": [
      "j'ai 40 ans\n"
     ]
    }
   ],
   "source": [
    "age  = 40\n",
    "print(f\"j'ai {age} ans\")"
   ]
  },
  {
   "cell_type": "markdown",
   "id": "588cdd15",
   "metadata": {},
   "source": [
    "### Les types de données en Python\n",
    "\n",
    "- **int** : nombres entiers  \n",
    "  Exemple : `x = 5`\n",
    "\n",
    "- **float** : nombres décimaux  \n",
    "  Exemple : `y = 3.14`\n",
    "\n",
    "- **str** : chaînes de caractères (texte)  \n",
    "  Exemple : `nom = \"Alice\"`\n",
    "\n",
    "- **bool** : booléens (vrai ou faux)  \n",
    "  Exemple : `actif = True`\n",
    "\n",
    "- **list** : liste d’éléments  \n",
    "  Exemple : `notes = [12, 15, 18]`\n",
    "\n",
    "- **tuple** : liste non modifiable  \n",
    "  Exemple : `coord = (10, 20)`\n",
    "\n",
    "- **dict** : dictionnaire (paires clé/valeur)  \n",
    "  Exemple : `personne = {\"nom\": \"Bob\", \"age\": 25}`\n",
    "\n",
    "- **set** : ensemble d’éléments uniques  \n",
    "  Exemple : `couleurs = {\"rouge\", \"vert\", \"bleu\"}`"
   ]
  },
  {
   "cell_type": "code",
   "execution_count": 3,
   "id": "6e8e3675",
   "metadata": {},
   "outputs": [
    {
     "name": "stdout",
     "output_type": "stream",
     "text": [
      "coordonnées : 10 20\n"
     ]
    }
   ],
   "source": [
    "coord = (10, 20)\n",
    "print(f\"coordonnées : {coord[0]} {coord[1]}\")"
   ]
  },
  {
   "cell_type": "markdown",
   "id": "1605c441",
   "metadata": {},
   "source": [
    "### Détermination du type de données en Python\n",
    "\n",
    "Pour connaître le type d’une variable en Python, on utilise la fonction `type()` :\n",
    "\n",
    "```python\n",
    "x = 5\n",
    "print(type(x))  # <class 'int'>\n",
    "\n",
    "y = 3.14\n",
    "print(type(y))  # <class 'float'>\n",
    "\n",
    "nom = \"Alice\"\n",
    "print(type(nom))  # <class 'str'>\n",
    "\n",
    "notes = [12, 15, 18]\n",
    "print(type(notes))  # <class 'list'>\n",
    "```"
   ]
  },
  {
   "cell_type": "code",
   "execution_count": 8,
   "id": "38e7af4d",
   "metadata": {},
   "outputs": [
    {
     "name": "stdout",
     "output_type": "stream",
     "text": [
      "8\n"
     ]
    }
   ],
   "source": [
    "collection = [1, 2, 3, 4, \"nom\", \"prénom\", 3.14, True]\n",
    "print(len(collection))"
   ]
  },
  {
   "cell_type": "markdown",
   "id": "482f004e",
   "metadata": {},
   "source": [
    "### Opérations dans Python\n",
    "\n",
    "- **Addition** : `a + b`  \n",
    "  Exemple : `3 + 2` donne `5`\n",
    "\n",
    "- **Soustraction** : `a - b`  \n",
    "  Exemple : `5 - 1` donne `4`\n",
    "\n",
    "- **Multiplication** : `a * b`  \n",
    "  Exemple : `4 * 2` donne `8`\n",
    "\n",
    "- **Division** : `a / b`  \n",
    "  Exemple : `10 / 2` donne `5.0`\n",
    "\n",
    "- **Division entière** : `a // b`  \n",
    "  Exemple : `7 // 2` donne `3`\n",
    "\n",
    "- **Modulo (reste de division)** : `a % b`  \n",
    "  Exemple : `7 % 2` donne `1`\n",
    "\n",
    "- **Puissance** : `a ** b`  \n",
    "  Exemple : `2 ** 3` donne"
   ]
  },
  {
   "cell_type": "code",
   "execution_count": 9,
   "id": "56cbd674",
   "metadata": {},
   "outputs": [
    {
     "name": "stdout",
     "output_type": "stream",
     "text": [
      "0.30000000000000004\n"
     ]
    }
   ],
   "source": [
    "variable = 0.1 + 0.2\n",
    "print(variable)"
   ]
  },
  {
   "cell_type": "markdown",
   "id": "3d8fce47",
   "metadata": {},
   "source": [
    "L’addition `0.1 + 0.2` en Python donne `0.30000000000000004` à cause des limites de la représentation des nombres à virgule flottante.\n",
    "\n",
    "Pour afficher un résultat arrondi, utilise la fonction `round()` :\n",
    "\n",
    "```python\n",
    "variable = 0.1 + 0.2\n",
    "print(round(variable, 2))  # Affiche 0.3\n",
    "```"
   ]
  },
  {
   "cell_type": "code",
   "execution_count": 13,
   "id": "c8503e83",
   "metadata": {},
   "outputs": [
    {
     "name": "stdout",
     "output_type": "stream",
     "text": [
      "0.3\n"
     ]
    }
   ],
   "source": [
    "valeur = 0.1 + 0.2\n",
    "print(round(valeur,2)\n",
    "      )\n"
   ]
  },
  {
   "cell_type": "code",
   "execution_count": 16,
   "id": "9d0854e3",
   "metadata": {},
   "outputs": [
    {
     "name": "stdout",
     "output_type": "stream",
     "text": [
      "1\n"
     ]
    }
   ],
   "source": [
    "print(3//2)"
   ]
  },
  {
   "cell_type": "markdown",
   "id": "111c1a06",
   "metadata": {},
   "source": [
    "### Comparaison en Python\n",
    "\n",
    "Les opérateurs de comparaison permettent de comparer des valeurs. Ils renvoient un booléen (`True` ou `False`).\n",
    "\n",
    "| Opérateur | Signification        | Exemple         | Résultat      |\n",
    "|-----------|---------------------|-----------------|--------------|\n",
    "| `==`      | Égal à              | `3 == 3`        | `True`       |\n",
    "| `!=`      | Différent de        | `3 != 4`        | `True`       |\n",
    "| `>`       | Supérieur à         | `5 > 2`         | `True`       |\n",
    "| `<`       | Inférieur à         | `2 < 5`         | `True`       |\n",
    "| `>=`      | Supérieur ou égal   | `5 >= 5`        | `True`       |\n",
    "| `<=`      | Inférieur ou égal   | `3 <= 4`        | `True`       |\n",
    "\n",
    "**Exemple :**\n",
    "```python\n",
    "a = 10\n",
    "b = 5\n",
    "print(a > b)      # True\n",
    "print(a == b)     # False\n",
    "print(a != b)     #"
   ]
  },
  {
   "cell_type": "code",
   "execution_count": 18,
   "id": "76677e3f",
   "metadata": {},
   "outputs": [
    {
     "name": "stdout",
     "output_type": "stream",
     "text": [
      "True\n"
     ]
    }
   ],
   "source": [
    "print(True == True)"
   ]
  },
  {
   "cell_type": "markdown",
   "id": "e5ebd2c7",
   "metadata": {},
   "source": [
    "### Conditionnelles en Python\n",
    "\n",
    "Les instructions conditionnelles permettent d’exécuter du code seulement si une condition est vraie.\n",
    "\n",
    "**Syntaxe de base :**\n",
    "```python\n",
    "if condition:\n",
    "    # code exécuté si la condition est vraie\n",
    "elif autre_condition:\n",
    "    # code exécuté si la première condition est fausse mais celle-ci vraie\n",
    "else:\n",
    "    # code exécuté si aucune condition n’est vraie\n",
    "```\n",
    "\n",
    "**Exemple :**\n",
    "```python\n",
    "age = 18\n",
    "if age >= 18:\n",
    "    print(\"Majeur\")\n",
    "else:\n",
    "    print(\"Mineur\")\n",
    "```"
   ]
  },
  {
   "cell_type": "code",
   "execution_count": null,
   "id": "4b7a4000",
   "metadata": {},
   "outputs": [],
   "source": []
  },
  {
   "cell_type": "code",
   "execution_count": null,
   "id": "1a952d11",
   "metadata": {},
   "outputs": [],
   "source": []
  }
 ],
 "metadata": {
  "kernelspec": {
   "display_name": "Python 3",
   "language": "python",
   "name": "python3"
  },
  "language_info": {
   "codemirror_mode": {
    "name": "ipython",
    "version": 3
   },
   "file_extension": ".py",
   "mimetype": "text/x-python",
   "name": "python",
   "nbconvert_exporter": "python",
   "pygments_lexer": "ipython3",
   "version": "3.12.6"
  }
 },
 "nbformat": 4,
 "nbformat_minor": 5
}
